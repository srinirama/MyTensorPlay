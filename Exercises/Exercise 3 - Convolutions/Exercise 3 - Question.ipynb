{
  "nbformat": 4,
  "nbformat_minor": 0,
  "metadata": {
    "colab": {
      "name": "Exercise 3 - Question.ipynb",
      "provenance": [],
      "collapsed_sections": []
    },
    "kernelspec": {
      "display_name": "Python 3",
      "name": "python3"
    }
  },
  "cells": [
    {
      "cell_type": "code",
      "metadata": {
        "id": "zX4Kg8DUTKWO",
        "colab_type": "code",
        "colab": {}
      },
      "source": [
        "#@title Licensed under the Apache License, Version 2.0 (the \"License\");\n",
        "# you may not use this file except in compliance with the License.\n",
        "# You may obtain a copy of the License at\n",
        "#\n",
        "# https://www.apache.org/licenses/LICENSE-2.0\n",
        "#\n",
        "# Unless required by applicable law or agreed to in writing, software\n",
        "# distributed under the License is distributed on an \"AS IS\" BASIS,\n",
        "# WITHOUT WARRANTIES OR CONDITIONS OF ANY KIND, either express or implied.\n",
        "# See the License for the specific language governing permissions and\n",
        "# limitations under the License."
      ],
      "execution_count": 45,
      "outputs": []
    },
    {
      "cell_type": "markdown",
      "metadata": {
        "colab_type": "text",
        "id": "iQjHqsmTAVLU"
      },
      "source": [
        "https://codelabs.developers.google.com/codelabs/tensorflow-lab3-convolutions/#3\n",
        "\n",
        "Using Convolutions\n"
      ]
    },
    {
      "cell_type": "code",
      "metadata": {
        "colab_type": "code",
        "id": "sfQRyaJWAIdg",
        "colab": {
          "base_uri": "https://localhost:8080/",
          "height": 130
        },
        "outputId": "2d6dfcf9-d56e-4755-d54b-b3b817d0c53d"
      },
      "source": [
        "import tensorflow as tf\n",
        "\n",
        "class myCallback(tf.keras.callbacks.Callback):\n",
        "  def on_epoch_end(self, epoch, logs={}):\n",
        "    if(logs.get('accuracy')>0.998):\n",
        "      print(\"\\nReached 99.8% accuracy so cancelling training!\")\n",
        "      self.model.stop_training = True\n",
        "\n",
        "\n",
        "mnist = tf.keras.datasets.mnist\n",
        "\n",
        "mnist = tf.keras.datasets.mnist\n",
        "(training_images, training_labels), (test_images, test_labels) = mnist.load_data()\n",
        "\n",
        "callbacks = myCallback()\n",
        "\n",
        "model = tf.keras.models.Sequential([\n",
        "  tf.keras.layers.Flatten(input_shape=(28, 28)),\n",
        "  tf.keras.layers.Dense(512, activation=tf.nn.relu),\n",
        "  tf.keras.layers.Dense(10, activation=tf.nn.softmax)\n",
        "])\n",
        "model.compile(optimizer='adam',\n",
        "              loss='sparse_categorical_crossentropy',\n",
        "              metrics=['accuracy'])\n",
        "\n",
        "model.fit(training_images, epochs=10, callbacks=[callbacks])\n",
        "\n",
        "\n"
      ],
      "execution_count": 46,
      "outputs": [
        {
          "output_type": "error",
          "ename": "SyntaxError",
          "evalue": "ignored",
          "traceback": [
            "\u001b[0;36m  File \u001b[0;32m\"<ipython-input-46-678f41002900>\"\u001b[0;36m, line \u001b[0;32m26\u001b[0m\n\u001b[0;31m    model.fit(, epochs=10, callbacks=[callbacks])\u001b[0m\n\u001b[0m              ^\u001b[0m\n\u001b[0;31mSyntaxError\u001b[0m\u001b[0;31m:\u001b[0m invalid syntax\n"
          ]
        }
      ]
    },
    {
      "cell_type": "code",
      "metadata": {
        "id": "OVthCGKlzvs8",
        "colab_type": "code",
        "colab": {}
      },
      "source": [
        "\n",
        "import requests # to get image from the web\n",
        "import shutil # to save it locally\n",
        "\n",
        "import numpy as np\n",
        "from keras.preprocessing import image\n",
        "from keras.applications import resnet50\n",
        "\n",
        "## Set up the image URL and filename\n",
        "image_url = \"https://raw.githubusercontent.com/srinirama/Keras_Deep_Learning/master/Potato-nuggets.jpg\"\n",
        "filename = image_url.split(\"/\")[-1]\n",
        "\n",
        "# Open the url image, set stream to True, this will return the stream content.\n",
        "r = requests.get(image_url, stream = True)\n",
        "\n",
        "# Check if the image was retrieved successfully\n",
        "if r.status_code == 200:\n",
        "    # Set decode_content value to True, otherwise the downloaded image file's size will be zero.\n",
        "    r.raw.decode_content = True\n",
        "    \n",
        "    # Open a local file with wb ( write binary ) permission.\n",
        "    with open(filename,'wb') as f:\n",
        "        shutil.copyfileobj(r.raw, f)\n",
        "        \n",
        "    print('Image sucessfully Downloaded: ',filename)\n",
        "else:\n",
        "    print('Image Couldn\\'t be retreived')\n",
        "\n",
        "img = image.load_img(\"Potato-nuggets.jpg\", target_size=(500, 500))\n",
        "\n",
        "x_img = image.img_to_array(img)\n",
        "\n",
        "import cv2\n",
        "import numpy as np\n",
        "from scipy import misc\n",
        "\n",
        "\n",
        "\n",
        "import matplotlib.pyplot as plt\n",
        "plt.grid(True)\n",
        "#plt.gray()\n",
        "#plt.axis('off')\n",
        "plt.imshow(x_img,cmap=plt.cm.binary)\n",
        "plt.show()\n"
      ],
      "execution_count": null,
      "outputs": []
    },
    {
      "cell_type": "code",
      "metadata": {
        "id": "i4lEFciI5gTd",
        "colab_type": "code",
        "colab": {}
      },
      "source": [
        "i_transformed = np.copy(x_img)\n",
        "size_x = i_transformed.shape[0]\n",
        "size_y = i_transformed.shape[1]\n",
        " "
      ],
      "execution_count": null,
      "outputs": []
    },
    {
      "cell_type": "code",
      "metadata": {
        "id": "lpKt_3Sb9eBE",
        "colab_type": "code",
        "colab": {}
      },
      "source": [
        "\n",
        "plt.gray()\n",
        "plt.grid(False)\n",
        "plt.imshow(i_transformed)\n",
        "#plt.axis('off')\n",
        "plt.show() \n",
        "\n",
        "i=x"
      ],
      "execution_count": null,
      "outputs": []
    },
    {
      "cell_type": "markdown",
      "metadata": {
        "id": "9CsWSFBx6hUK",
        "colab_type": "text"
      },
      "source": [
        ""
      ]
    },
    {
      "cell_type": "code",
      "metadata": {
        "id": "DwTV0QcC6jQG",
        "colab_type": "code",
        "colab": {}
      },
      "source": [
        "#First, we make a convolution matrix (or kernel) as a 3x3 array.\n",
        "# This filter detects edges nicely\n",
        "# It creates a convolution that only passes through sharp edges and straight lines. \n",
        "# Experiment with different values for fun effects.\n",
        "#filter = [ [0, 1, 0], [1, -4, 1], [0, 1, 0]] \n",
        "# A couple more filters to try for fun!\n",
        "filter = [ [-1, -2, -1], [0, 0, 0], [1, 2, 1]]\n",
        "#filter = [ [-1, 0, 1], [-2, 0, 2], [-1, 0, 1]]\n",
        " # If all the digits in the filter don't add up to 0 or 1, you \n",
        "# should probably do a weight to get it to do so\n",
        "# so, for example, if your weights are 1,1,1 1,2,1 1,1,1\n",
        "# They add up to 10, so you would set a weight of .1 if you want to normalize them\n",
        "weight  = 1"
      ],
      "execution_count": null,
      "outputs": []
    },
    {
      "cell_type": "markdown",
      "metadata": {
        "id": "o75Y1aZy8lZk",
        "colab_type": "text"
      },
      "source": [
        "Now let's calculate the output pixels. We will iterate over the image, leaving a 1 pixel margin, and multiply out each of the neighbors of the current pixel by the value defined in the filter.\n",
        "\n",
        "That means the current pixel's neighbor above it and to the left will be multiplied by the top left item in the filter etc. etc. We'll then multiply the result by the weight, and then ensure the result is in the range 0-255\n",
        "\n",
        "Finally we'll load the new value into the transformed image."
      ]
    },
    {
      "cell_type": "code",
      "metadata": {
        "id": "w1eEhdDP8jwB",
        "colab_type": "code",
        "colab": {}
      },
      "source": [
        "for x in range(1,size_x-1):\n",
        "  for y in range(1,size_y-1):\n",
        "      output_pixel = 0.0\n",
        "      output_pixel = output_pixel + (x_img[x - 1, y-1] * filter[0][0])\n",
        "      output_pixel = output_pixel + (x_img[x, y-1] * filter[0][1])\n",
        "      output_pixel = output_pixel + (x_img[x + 1, y-1] * filter[0][2])\n",
        "      output_pixel = output_pixel + (x_img[x-1, y] * filter[1][0])\n",
        "      output_pixel = output_pixel + (x_img[x, y] * filter[1][1])\n",
        "      output_pixel = output_pixel + (x_img[x+1, y] * filter[1][2])\n",
        "      output_pixel = output_pixel + (x_img[x-1, y+1] * filter[2][0])\n",
        "      output_pixel = output_pixel + (x_img[x, y+1] * filter[2][1])\n",
        "      output_pixel = output_pixel + (x_img[x+1, y+1] * filter[2][2])\n",
        "      print(\"output_pixel={}.  y= {}.  x={}. \".format(output_pixel,y,x) )\n",
        "      output_pixel = output_pixel * weight\n",
        "      if(output_pixel<0):\n",
        "        output_pixel=0\n",
        "      if(output_pixel>255):\n",
        "        output_pixel=255\n",
        "      i_transformed[x, y] = output_pixel"
      ],
      "execution_count": null,
      "outputs": []
    },
    {
      "cell_type": "code",
      "metadata": {
        "id": "YCaw_OuI8zEX",
        "colab_type": "code",
        "colab": {}
      },
      "source": [
        "# Plot the image. Note the size of the axes -- they are 512 by 512\n",
        "plt.gray()\n",
        "plt.grid(False)\n",
        "plt.imshow(i_transformed)\n",
        "#plt.axis('off')\n",
        "plt.show()  "
      ],
      "execution_count": null,
      "outputs": []
    }
  ]
}