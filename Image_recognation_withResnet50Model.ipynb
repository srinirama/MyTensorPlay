{
  "nbformat": 4,
  "nbformat_minor": 0,
  "metadata": {
    "kernelspec": {
      "display_name": "Python 3",
      "language": "python",
      "name": "python3"
    },
    "language_info": {
      "codemirror_mode": {
        "name": "ipython",
        "version": 3
      },
      "file_extension": ".py",
      "mimetype": "text/x-python",
      "name": "python",
      "nbconvert_exporter": "python",
      "pygments_lexer": "ipython3",
      "version": "3.6.3"
    },
    "colab": {
      "name": "Image_recognation_Resnet50.ipynb",
      "provenance": []
    }
  },
  "cells": [
    {
      "cell_type": "code",
      "metadata": {
        "id": "3NIAgJwtYT9w",
        "colab_type": "code",
        "colab": {}
      },
      "source": [
        "import numpy as np\n",
        "from keras.preprocessing import image\n",
        "from keras.applications import resnet50"
      ],
      "execution_count": 12,
      "outputs": []
    },
    {
      "cell_type": "code",
      "metadata": {
        "id": "b7cz7rPiYT9_",
        "colab_type": "code",
        "colab": {}
      },
      "source": [
        "#Load Keras's ResNet50 model that is pre-trained against the ImageNet database.\n",
        "model = resnet50.ResNet50()\n",
        "# When you will run first time, it will download 100 MB model from\n",
        "# https://github.com/fchollet/deep-learning-models/releases/download/v0.2/resnet50_weights_tf_dim_ordering_tf_kernels.h5\n",
        "# If getting download error then try two or three times."
      ],
      "execution_count": 13,
      "outputs": []
    },
    {
      "cell_type": "code",
      "metadata": {
        "id": "j7QXqgt0u5dz",
        "colab_type": "code",
        "colab": {
          "base_uri": "https://localhost:8080/",
          "height": 34
        },
        "outputId": "573772db-2d8e-496d-c0dd-00574f06d9c3"
      },
      "source": [
        "import requests # to get image from the web\n",
        "import shutil # to save it locally\n",
        "\n",
        "## Set up the image URL and filename\n",
        "image_url = \"https://i.ytimg.com/vi/ozh64vMoswA/hqdefault.jpg\"\n",
        "filename = image_url.split(\"/\")[-1]\n",
        "\n",
        "# Open the url image, set stream to True, this will return the stream content.\n",
        "r = requests.get(image_url, stream = True)\n",
        "\n",
        "# Check if the image was retrieved successfully\n",
        "if r.status_code == 200:\n",
        "    # Set decode_content value to True, otherwise the downloaded image file's size will be zero.\n",
        "    r.raw.decode_content = True\n",
        "    \n",
        "    # Open a local file with wb ( write binary ) permission.\n",
        "    with open(filename,'wb') as f:\n",
        "        shutil.copyfileobj(r.raw, f)\n",
        "        \n",
        "    print('Image sucessfully Downloaded: ',filename)\n",
        "else:\n",
        "    print('Image Couldn\\'t be retreived')"
      ],
      "execution_count": 14,
      "outputs": [
        {
          "output_type": "stream",
          "text": [
            "Image sucessfully Downloaded:  220px-2010-kodiak-bear-1.jpg\n"
          ],
          "name": "stdout"
        }
      ]
    },
    {
      "cell_type": "code",
      "metadata": {
        "id": "hX0zj2TGYT-E",
        "colab_type": "code",
        "colab": {
          "base_uri": "https://localhost:8080/",
          "height": 34
        },
        "outputId": "29cadc6f-041e-4e84-98df-06b47d9bea56"
      },
      "source": [
        "import glob\n",
        "\n",
        "jpgFilenamesList = glob.glob('*.jpg')\n",
        "\n",
        "print(jpgFilenamesList)\n",
        "# Load image file and resizing to 224*224 pixels that is required by ResNet50 model\n",
        "img = image.load_img(jpgFilenamesList[0], target_size=(500, 500))"
      ],
      "execution_count": 15,
      "outputs": [
        {
          "output_type": "stream",
          "text": [
            "['220px-2010-kodiak-bear-1.jpg']\n"
          ],
          "name": "stdout"
        }
      ]
    },
    {
      "cell_type": "code",
      "metadata": {
        "id": "F-bcc_I_u3gt",
        "colab_type": "code",
        "colab": {}
      },
      "source": [
        ""
      ],
      "execution_count": 15,
      "outputs": []
    },
    {
      "cell_type": "code",
      "metadata": {
        "id": "CRu876h9sDWQ",
        "colab_type": "code",
        "colab": {}
      },
      "source": [
        ""
      ],
      "execution_count": 15,
      "outputs": []
    },
    {
      "cell_type": "code",
      "metadata": {
        "id": "EtAxUYytYT-L",
        "colab_type": "code",
        "colab": {}
      },
      "source": [
        "# Convert image to a numpy array\n",
        "x = image.img_to_array(img)"
      ],
      "execution_count": 16,
      "outputs": []
    },
    {
      "cell_type": "code",
      "metadata": {
        "id": "FlLIPyFcYT-Q",
        "colab_type": "code",
        "colab": {}
      },
      "source": [
        "# Add a forth dimension since Keras expecta a list of images.\n",
        "x = np.expand_dims(x, axis=0)"
      ],
      "execution_count": 17,
      "outputs": []
    },
    {
      "cell_type": "code",
      "metadata": {
        "id": "jOUZzo7DYT-W",
        "colab_type": "code",
        "colab": {}
      },
      "source": [
        "# Scale the input image to the range used in the trained network\n",
        "x = resnet50.preprocess_input(x)"
      ],
      "execution_count": 18,
      "outputs": []
    },
    {
      "cell_type": "code",
      "metadata": {
        "id": "RYhRxhMvYT-b",
        "colab_type": "code",
        "colab": {
          "base_uri": "https://localhost:8080/",
          "height": 54
        },
        "outputId": "eda7d14c-293c-42d0-f0a7-8c175a6116b8"
      },
      "source": [
        "# Run the model for prediction for given image\n",
        "#This will return a predictions object. The predictions object is a 1,000 element array of floating point numbers. \n",
        "#Each element in the array tells us how likely our picture contains each of 1,000 objects the model is trained to recognize. \n",
        "#To make things easier, the ResNet 50 model provides a decode predictions function that will just tell \n",
        "#us the names of the most likely matches, instead of making us check all 1,000 possible entries\n",
        "predictions = model.predict(x)"
      ],
      "execution_count": 19,
      "outputs": [
        {
          "output_type": "stream",
          "text": [
            "WARNING:tensorflow:Model was constructed with shape (None, 224, 224, 3) for input Tensor(\"input_2:0\", shape=(None, 224, 224, 3), dtype=float32), but it was called on an input with incompatible shape (None, 500, 500, 3).\n"
          ],
          "name": "stdout"
        }
      ]
    },
    {
      "cell_type": "code",
      "metadata": {
        "id": "_0C1txcwYT-j",
        "colab_type": "code",
        "colab": {
          "base_uri": "https://localhost:8080/",
          "height": 51
        },
        "outputId": "590cde23-c326-4f96-8fa9-b9bf1bae1d31"
      },
      "source": [
        "# Look up the names of the predicted classes.\n",
        "predicted_classes = resnet50.decode_predictions(predictions, top = 9) # by default give top 5 predicted valus.\n",
        "# Downloading data from https://s3.amazonaws.com/deep-learning-models/image-models/imagenet_class_index.json"
      ],
      "execution_count": 20,
      "outputs": [
        {
          "output_type": "stream",
          "text": [
            "Downloading data from https://storage.googleapis.com/download.tensorflow.org/data/imagenet_class_index.json\n",
            "40960/35363 [==================================] - 0s 0us/step\n"
          ],
          "name": "stdout"
        }
      ]
    },
    {
      "cell_type": "code",
      "metadata": {
        "id": "vPALoNqAYT-n",
        "colab_type": "code",
        "colab": {
          "base_uri": "https://localhost:8080/",
          "height": 187
        },
        "outputId": "7d48d879-0d91-4db1-b0fc-2c4350e59d63"
      },
      "source": [
        "print(\"This is an image of :\")\n",
        "for imagenet_id, name, likelihood in predicted_classes[0]:\n",
        "    print(\" {}: {:2f} likelihood\".format(name, likelihood))"
      ],
      "execution_count": 21,
      "outputs": [
        {
          "output_type": "stream",
          "text": [
            "This is an image of :\n",
            " brown_bear: 0.564950 likelihood\n",
            " Sussex_spaniel: 0.052128 likelihood\n",
            " briard: 0.050484 likelihood\n",
            " patas: 0.018256 likelihood\n",
            " Tibetan_terrier: 0.017776 likelihood\n",
            " Irish_setter: 0.015661 likelihood\n",
            " Australian_terrier: 0.011721 likelihood\n",
            " Norwich_terrier: 0.010974 likelihood\n",
            " Irish_water_spaniel: 0.010919 likelihood\n"
          ],
          "name": "stdout"
        }
      ]
    }
  ]
}